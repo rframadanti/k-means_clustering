{
 "cells": [
  {
   "cell_type": "markdown",
   "metadata": {},
   "source": [
    "# Clustering models"
   ]
  },
  {
   "cell_type": "markdown",
   "metadata": {},
   "source": [
    "#### Created by: Ristanti Ramadanti\n",
    "\n",
    "A template i created to help my (future) self building clustering model not from scratch.\n",
    "Clustering is an unsupervised learning to classify our observations into certain number (k) of clusters.\n",
    "Examples of implementation are for customer segmentations, sports player profiling, etc.\n",
    "\n",
    "### Machine learning algorithm:\n",
    "Clustering model with the following algorithms:\n",
    "    - K-means Clustering\n",
    "\n",
    "### Data analytics process include:\n",
    "\n",
    "   - Preprocessing of data: merging, cleaning, transforming (scaling), feature engineering, variable selection\n",
    "   - Choosing optimal k (for k-means clustering) using the following technique:\n",
    "       - Silhouette analysis\n",
    "       - Elbow method\n",
    "   - Applying clustering analysis\n",
    "   - Visualizing clusters"
   ]
  },
  {
   "cell_type": "markdown",
   "metadata": {},
   "source": [
    "## 1st step: Preprocessing & EDA"
   ]
  },
  {
   "cell_type": "code",
   "execution_count": 2,
   "metadata": {},
   "outputs": [
    {
     "name": "stderr",
     "output_type": "stream",
     "text": [
      "\n",
      "Bad key \"“backend\" on line 1 in\n",
      "/Users/rfdanti/.matplotlib/matplotlibrc.\n",
      "You probably need to get an updated matplotlibrc file from\n",
      "https://github.com/matplotlib/matplotlib/blob/v3.2.1/matplotlibrc.template\n",
      "or from the matplotlib source distribution\n"
     ]
    }
   ],
   "source": [
    "# Importing libraries\n",
    "import pandas as pd\n",
    "import numpy as np\n",
    "import math as m\n",
    "from scipy import stats\n",
    "\n",
    "# Importing Viz library\n",
    "import matplotlib.pyplot as plt\n",
    "import seaborn as sns"
   ]
  },
  {
   "cell_type": "code",
   "execution_count": 3,
   "metadata": {},
   "outputs": [],
   "source": [
    "directory = \"/Users/folder/\"\n",
    "df = pd.read_csv(directory+\"data.csv\")"
   ]
  },
  {
   "cell_type": "code",
   "execution_count": 6,
   "metadata": {},
   "outputs": [],
   "source": [
    "# Checking distribution of numerical variables: plotting histograms\n",
    "# Make histogram plot\n",
    "def plot_hist(data, title, colour='#55DDE0'):\n",
    "    plt.hist(data, color=colour, edgecolor='white', label=title)\n",
    "    plt.title('Distribution')\n",
    "    plt.ylabel('Frequency', fontweight='bold')\n",
    "    plt.xlabel(title, fontweight='bold')\n",
    "    plt.show()\n",
    "\n",
    "# Make scatter plot\n",
    "def plot_scatter(data, xvar, yvar, x_label, y_label, title):\n",
    "    plt.scatter(x=data[xvar], y=data[yvar], marker='.', s=30, alpha=0.7)\n",
    "    plt.title(title)\n",
    "    plt.xlabel(x_label)\n",
    "    plt.ylabel(y_label)\n",
    "    plt.show()"
   ]
  },
  {
   "cell_type": "code",
   "execution_count": 8,
   "metadata": {},
   "outputs": [
    {
     "data": {
      "text/plain": [
       "0.05015912282857453"
      ]
     },
     "execution_count": 8,
     "metadata": {},
     "output_type": "execute_result"
    }
   ],
   "source": [
    "# To check correlation of categorical var\n",
    "def cramers_v(x, y):\n",
    "    confusion_matrix = pd.crosstab(x,y)\n",
    "    chi2 = stats.chi2_contingency(confusion_matrix)[0]\n",
    "    n = confusion_matrix.sum().sum()\n",
    "    phi2 = chi2/n\n",
    "    r,k = confusion_matrix.shape\n",
    "    phi2corr = max(0, phi2-((k-1)*(r-1))/(n-1))\n",
    "    rcorr = r-((r-1)**2)/(n-1)\n",
    "    kcorr = k-((k-1)**2)/(n-1)\n",
    "    return np.sqrt(phi2corr/min((kcorr-1),(rcorr-1)))\n",
    "cramers_v(df[\"var1\"], df[\"var2\"])"
   ]
  },
  {
   "cell_type": "markdown",
   "metadata": {},
   "source": [
    "## Preprocessing\n",
    "Data cleaning, scaling, feature engineering and pivoting data to prepare for merchant & buyer clustering analysis"
   ]
  },
  {
   "cell_type": "code",
   "execution_count": null,
   "metadata": {},
   "outputs": [],
   "source": [
    "# Scaling variables to avoid biased model when analysing from variables with different scales\n",
    "from sklearn import preprocessing\n",
    "scaler = preprocessing.MinMaxScaler(feature_range=(1, 10))\n",
    "df[['var1','var2']] = scaler.fit_transform(df[['var1','var2']])"
   ]
  },
  {
   "cell_type": "code",
   "execution_count": 360,
   "metadata": {},
   "outputs": [],
   "source": [
    "#Feature Engineering: transform several columns with missing value into binary variables\n",
    "def missing_into_binary(df, old, new):\n",
    "    df.rename(columns={old:new}, inplace=True)\n",
    "    df[new] = df[new].fillna(0)\n",
    "    df[new].values[dfp[new] > 0] = 1\n",
    "\n",
    "# Creating variable is_promo to indicate whether transactions used promo\n",
    "missing_into_binary(df, 'var1', 'is_var1')"
   ]
  },
  {
   "cell_type": "code",
   "execution_count": null,
   "metadata": {},
   "outputs": [],
   "source": [
    "# Converting variables into the right data type\n",
    "category = ['var1', 'var2']\n",
    "\n",
    "for column in category:\n",
    "    df[column] = df[column].astype('int')\n",
    "    df[column] = df[column].astype('category')\n",
    "\n",
    "print(df.dtypes) "
   ]
  },
  {
   "cell_type": "markdown",
   "metadata": {},
   "source": [
    "## 2nd step: Clustering Model (Unsupervised Learning)\n",
    "- Creating a class for clustering which includes: \n",
    "    - K-means clustering model\n",
    "    - elbow method to choose k\n",
    "    - 2 dimension visualisation of cluster\n",
    "- Applying clustering model to the 3 datasets (promo, seller, buyer)\n",
    "- Merging the cluster variables with the transaction data"
   ]
  },
  {
   "cell_type": "code",
   "execution_count": 258,
   "metadata": {},
   "outputs": [
    {
     "data": {
      "text/plain": [
       "'To display all outputs of each cell'"
      ]
     },
     "execution_count": 258,
     "metadata": {},
     "output_type": "execute_result"
    },
    {
     "data": {
      "text/plain": [
       "'To get a timing of each function'"
      ]
     },
     "execution_count": 258,
     "metadata": {},
     "output_type": "execute_result"
    }
   ],
   "source": [
    "\"\"\"To display all outputs of each cell\"\"\"\n",
    "from IPython.core.interactiveshell import InteractiveShell\n",
    "InteractiveShell.ast_node_interactivity = \"all\"\n",
    "\n",
    "\"\"\"To get a timing of each function\"\"\"\n",
    "from time import time\n",
    "def timing(f):\n",
    "    def wrapper(*args, **kwargs):\n",
    "        start = time()\n",
    "        result = f(*args, **kwargs)\n",
    "        end = time()\n",
    "        print('function:%r took: %2.2f sec' % (f.__name__, end - start))\n",
    "        return result\n",
    "    return wrapper"
   ]
  },
  {
   "cell_type": "markdown",
   "metadata": {},
   "source": [
    "### Creating Class for Clustering"
   ]
  },
  {
   "cell_type": "code",
   "execution_count": 54,
   "metadata": {},
   "outputs": [],
   "source": [
    "import sklearn.metrics as metrics\n",
    "from sklearn.cluster import KMeans\n",
    "import scipy.cluster.hierarchy as sch\n",
    "from sklearn.metrics import silhouette_samples, silhouette_score\n",
    "import matplotlib.cm as cm\n",
    "from sklearn.preprocessing import StandardScaler\n",
    "\n",
    "# Creating a class for clustering analysis\n",
    "class clustering():\n",
    "    \"\"\"Base processor to be used for all functions\"\"\"\"\"\n",
    "    def __init__(self, directory, df_, cluster_label): #directory = path to the folder containing df \n",
    "        self.df = df_\n",
    "        self.cluster_label = cluster_label\n",
    "        \n",
    "    @timing\n",
    "    def read(self):\n",
    "        \"\"\"Read raw data\"\"\"\n",
    "        self.df = pd.read_csv(self.input_directory + self.df)\n",
    "        print(self.df.head())\n",
    "        \n",
    "        \n",
    "    @timing\n",
    "    def elbow(self, k_to_check):\n",
    "        self.X = self.df\n",
    "        self.Sum_of_squared_distances = []\n",
    "        self.K = range(2,k_to_check+1)\n",
    "        for k in self.K:\n",
    "            self.km = KMeans(n_clusters=k)\n",
    "            self.km = self.km.fit(self.X)\n",
    "            self.Sum_of_squared_distances.append(self.km.inertia_)\n",
    "\n",
    "        plt.plot(self.K, self.Sum_of_squared_distances, 'bx-')\n",
    "        plt.xlabel('k')\n",
    "        plt.ylabel('Sum_of_squared_distances')\n",
    "        plt.title('Elbow Method For Optimal k')\n",
    "        plt.show()\n",
    "    \n",
    "    @timing\n",
    "    def model_fit(self, chosen_k, max_iter=100, n_init=10, random_state=1000):\n",
    "        self.X = self.df\n",
    "        self.chosen_k = chosen_k\n",
    "        self.model = KMeans(n_clusters=self.chosen_k, max_iter=max_iter, n_init=n_init, random_state=random_state)\n",
    "        self.cluster_labels = self.model.fit_predict(self.X)\n",
    "        \n",
    "        self.df_out = self.X\n",
    "        self.df_out[self.cluster_label] = self.cluster_labels +1\n",
    "        \n",
    "        return self.df_out\n",
    "    \n",
    "    @timing    \n",
    "    def visualize_model(self, xlabel, ylabel, x, y):\n",
    "        \n",
    "        # Plot showing the clusters formed\n",
    "        self.colors = cm.nipy_spectral(self.cluster_labels.astype(float) / self.chosen_k)\n",
    "        plt.scatter(self.X.iloc[:,x], self.X.iloc[:,y], marker='.', s=30, lw=0, alpha=0.7,\n",
    "                        c=self.colors, edgecolor='k')\n",
    "\n",
    "        # Labeling the clusters\n",
    "        self.centers = self.model.cluster_centers_ +1\n",
    "        # Draw white circles at cluster centers\n",
    "        plt.scatter(self.centers[:, x], self.centers[:, y], marker='o',\n",
    "                        c=\"white\", alpha=1, s=200, edgecolor='k')\n",
    "\n",
    "        for i, c in enumerate(self.centers, 1):\n",
    "            plt.scatter(c[x], c[y], marker='$%d$' % i, alpha=1,\n",
    "                            s=50, edgecolor='k')\n",
    "\n",
    "        plt.title(\"The visualization of the clustered data: \"+str(self.cluster_label))\n",
    "        plt.xlabel(xlabel)\n",
    "        plt.ylabel(ylabel)\n",
    "        plt.show()\n",
    "        \n",
    "    @timing\n",
    "    def silhouette(self, k_to_check, xlabel, ylabel, x, y):\n",
    "        print(__doc__)\n",
    "\n",
    "        self.range_clusters = range(2,k_to_check+1)\n",
    "        self.n = []\n",
    "        self.silhouette = []\n",
    "\n",
    "        for self.n_clusters in self.range_clusters:\n",
    "            # Create a subplot with 1 row and 2 columns\n",
    "            self.fig, (self.ax1, self.ax2) = plt.subplots(1, 2)\n",
    "            self.fig.set_size_inches(18, 7)\n",
    "\n",
    "            # The 1st subplot is the silhouette plot\n",
    "            # Set plot of silhouette coefficient ranging from -0.1, 1 \n",
    "            self.ax1.set_xlim([-0.1, 1])\n",
    "            # The (n_clusters+1)*10 is for inserting blank space between silhouette plots of individual clusters.\n",
    "            self.ax1.set_ylim([0, len(self.X) + (self.n_clusters + 1) * 10])\n",
    "\n",
    "            # Initialize the clusterer with n_clusters value and a random generator set seed for reproducibility, \n",
    "            # if random_state=None, the random number generator is the RandomState instance used by np.random \n",
    "            self.clusterer = KMeans(n_clusters=self.n_clusters, max_iter=100, n_init=10, random_state=1000)\n",
    "            self.cluster_labels = self.clusterer.fit_predict(self.X)\n",
    "\n",
    "            # The silhouette_score gives the average value for all the samples.\n",
    "            # This gives a perspective into the density and separation of the formed clusters\n",
    "            self.silhouette_avg = silhouette_score(self.X, self.cluster_labels)\n",
    "            self.n.append(self.n_clusters)\n",
    "            self.silhouette.append(self.silhouette_avg)\n",
    "            print(\"For n_clusters =\", self.n_clusters,\n",
    "                  \"The average silhouette_score is :\", self.silhouette_avg)\n",
    "\n",
    "            # Compute the silhouette scores for each sample\n",
    "            self.sample_silhouette_values = silhouette_samples(self.X, self.cluster_labels)\n",
    "\n",
    "            self.y_lower = 10\n",
    "            for i in range(self.n_clusters):\n",
    "                # Aggregate the silhouette scores for samples belonging to\n",
    "                # cluster i, and sort them\n",
    "                self.ith_cluster_silhouette_values = \\\n",
    "                    self.sample_silhouette_values[self.cluster_labels == i]\n",
    "\n",
    "                self.ith_cluster_silhouette_values.sort()\n",
    "\n",
    "                self.size_cluster_i = self.ith_cluster_silhouette_values.shape[0]\n",
    "                self.y_upper = self.y_lower + self.size_cluster_i\n",
    "\n",
    "                self.color = cm.nipy_spectral(float(i) / self.n_clusters)\n",
    "                self.ax1.fill_betweenx(np.arange(self.y_lower, self.y_upper),\n",
    "                                  0, self.ith_cluster_silhouette_values,\n",
    "                                  facecolor=self.color, edgecolor=self.color, alpha=0.7)\n",
    "\n",
    "                # Label the silhouette plots with their cluster numbers at the middle\n",
    "                self.ax1.text(-0.05, self.y_lower + 0.5 * self.size_cluster_i, str(i))\n",
    "\n",
    "                # Compute the new y_lower for next plot\n",
    "                self.y_lower = self.y_upper + 10  # 10 for the 0 samples\n",
    "\n",
    "            self.ax1.set_title(\"The silhouette plot for the various clusters.\")\n",
    "            self.ax1.set_xlabel(\"The silhouette coefficient values\")\n",
    "            self.ax1.set_ylabel(\"Cluster label\")\n",
    "\n",
    "            # The vertical line for average silhouette score of all the values\n",
    "            self.ax1.axvline(x=self.silhouette_avg, color=\"red\", linestyle=\"--\")\n",
    "\n",
    "            self.ax1.set_yticks([])  # Clear the yaxis labels / ticks\n",
    "            self.ax1.set_xticks([-0.1, 0, 0.2, 0.4, 0.6, 0.8, 1])\n",
    "\n",
    "            # 2nd Plot showing the actual clusters formed\n",
    "            self.colors = cm.nipy_spectral(self.cluster_labels.astype(float) / self.n_clusters)\n",
    "            self.ax2.scatter(self.X.iloc[:,x], self.X.iloc[:,y], marker='.', s=30, lw=0, alpha=0.7,\n",
    "                        c=self.colors, edgecolor='k')\n",
    "\n",
    "            # Labeling the clusters\n",
    "            self.centers = self.clusterer.cluster_centers_\n",
    "            # Draw white circles at cluster centers\n",
    "            self.ax2.scatter(self.centers[:, x], self.centers[:, y], marker='o',\n",
    "                        c=\"white\", alpha=1, s=200, edgecolor='k')\n",
    "\n",
    "            for i, c in enumerate(self.centers):\n",
    "                self.ax2.scatter(c[x], c[y], marker='$%d$' % i, alpha=1,\n",
    "                            s=50, edgecolor='k')\n",
    "\n",
    "            self.ax2.set_title(\"The visualization of the clustered data.\")\n",
    "            self.ax2.set_xlabel(xlabel)\n",
    "            self.ax2.set_ylabel(ylabel)\n",
    "\n",
    "            plt.suptitle((\"Silhouette analysis for KMeans clustering on sample data \"\n",
    "                          \"with n_clusters = %d\" % self.n_clusters),\n",
    "                         fontsize=14, fontweight='bold')\n",
    "\n",
    "        # Calling DataFrame constructor after zipping both lists, with columns specified \n",
    "        self.s = pd.DataFrame(list(zip(self.n, self.silhouette)), \n",
    "                         columns =['N of clusters', 'Silhouette score']) \n",
    "        # Plotting silhouette score for all k\n",
    "        self.fig, self.ax = plt.subplots(1, 1)\n",
    "        self.fig.set_size_inches(18, 7)\n",
    "\n",
    "        self.ax.plot(self.s['N of clusters'], self.s['Silhouette score'], 'bx-')\n",
    "        self.ax.set_xlabel('N of clusters')\n",
    "        self.ax.set_ylabel('Silhouette score')\n",
    "        self.ax.set_title('Silhouette Method For Optimal k')\n",
    "        \n",
    "        plt.show()"
   ]
  },
  {
   "cell_type": "markdown",
   "metadata": {},
   "source": [
    "### Applying Clustering to Promo"
   ]
  },
  {
   "cell_type": "code",
   "execution_count": 56,
   "metadata": {
    "scrolled": true
   },
   "outputs": [
    {
     "data": {
      "image/png": "[encoded data removed]",
      "text/plain": [
       "<Figure size 432x288 with 1 Axes>"
      ]
     },
     "metadata": {
      "needs_background": "light"
     },
     "output_type": "display_data"
    },
    {
     "name": "stdout",
     "output_type": "stream",
     "text": [
      "function:'elbow' took: 0.61 sec\n"
     ]
    }
   ],
   "source": [
    "cluster = clustering(\"\", df, \"cluster\")\n",
    "cluster.elbow(15) #checking k from 2 to 15"
   ]
  },
  {
   "cell_type": "code",
   "execution_count": null,
   "metadata": {},
   "outputs": [],
   "source": [
    "#Applying silhouette method to help choosing number of k for K-means clustering\n",
    "#Choose 2 variables for visualisation purpose. K-means clustering model still consider all variables as input\n",
    "cluster.silhouette(10, \"var1\", \"var2\", 0, 1) #checking k 2-10"
   ]
  },
  {
   "cell_type": "code",
   "execution_count": 57,
   "metadata": {
    "scrolled": false
   },
   "outputs": [
    {
     "name": "stdout",
     "output_type": "stream",
     "text": [
      "function:'model_fit' took: 0.03 sec\n"
     ]
    }
   ],
   "source": [
    "# Based on elbow method graph, optimal k=4 \n",
    "result = cluster.model_fit(4)"
   ]
  },
  {
   "cell_type": "code",
   "execution_count": null,
   "metadata": {},
   "outputs": [],
   "source": [
    "cluster.visualize_model(\"Var 1\", \"Var 2\", 0, 1)"
   ]
  },
  {
   "cell_type": "code",
   "execution_count": 59,
   "metadata": {
    "scrolled": true
   },
   "outputs": [],
   "source": [
    "# Adding new column of cluster label\n",
    "def add_cluster(df, df_cluster, label, lookup):\n",
    "    df_cluster = df_cluster.reset_index()\n",
    "    sub_df = df_cluster[[lookup, label]]\n",
    "    df = pd.merge(df, sub_df, on=lookup, how='left')\n",
    "    return df"
   ]
  },
  {
   "cell_type": "code",
   "execution_count": 106,
   "metadata": {},
   "outputs": [],
   "source": [
    "# Saving to csv \n",
    "#result.to_csv(\"result.csv\")"
   ]
  }
 ],
 "metadata": {
  "kernelspec": {
   "display_name": "Python 3",
   "language": "python",
   "name": "python3"
  },
  "language_info": {
   "codemirror_mode": {
    "name": "ipython",
    "version": 3
   },
   "file_extension": ".py",
   "mimetype": "text/x-python",
   "name": "python",
   "nbconvert_exporter": "python",
   "pygments_lexer": "ipython3",
   "version": "3.7.7"
  }
 },
 "nbformat": 4,
 "nbformat_minor": 4
}
